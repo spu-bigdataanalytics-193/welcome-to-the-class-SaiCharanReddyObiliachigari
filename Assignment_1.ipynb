{
 "cells": [
  {
   "cell_type": "markdown",
   "metadata": {},
   "source": [
    "# Printing the Name"
   ]
  },
  {
   "cell_type": "code",
   "execution_count": 21,
   "metadata": {},
   "outputs": [],
   "source": [
    "class Name:\n",
    "    def __init__(self,fname,mname,lname):\n",
    "        self.firstname = fname\n",
    "        self.middlename = mname\n",
    "        self.lastname = lname\n",
    "\n",
    "class bigdata(Name):\n",
    "    def my_name(self):\n",
    "        return (\"Hi my Full name is : {} {} {}\".format(self.firstname,self.middlename,self.lastname))"
   ]
  },
  {
   "cell_type": "code",
   "execution_count": 22,
   "metadata": {},
   "outputs": [],
   "source": [
    "obj = bigdata(\"Sai\",\"Charan\",\"Reddy\")"
   ]
  },
  {
   "cell_type": "code",
   "execution_count": 23,
   "metadata": {},
   "outputs": [
    {
     "data": {
      "text/plain": [
       "'Hi my Full name is : Sai Charan Reddy'"
      ]
     },
     "execution_count": 23,
     "metadata": {},
     "output_type": "execute_result"
    }
   ],
   "source": [
    "obj.my_name()"
   ]
  }
 ],
 "metadata": {
  "kernelspec": {
   "display_name": "'Python Interactive'",
   "language": "python",
   "name": "9ce6d848-0dd9-4d8d-818d-11d357f92e5e"
  },
  "language_info": {
   "codemirror_mode": {
    "name": "ipython",
    "version": 3
   },
   "file_extension": ".py",
   "mimetype": "text/x-python",
   "name": "python",
   "nbconvert_exporter": "python",
   "pygments_lexer": "ipython3",
   "version": "3.7.1"
  }
 },
 "nbformat": 4,
 "nbformat_minor": 2
}
